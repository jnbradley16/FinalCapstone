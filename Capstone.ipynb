{
    "nbformat_minor": 1, 
    "cells": [
        {
            "source": "## Introduction/Business Problem\nA restaurant chain is looking for possible areas in the Tampa FL area that will put them in the best position to succeed. In order to determine the level of success each possible area may have in the area they need to know:\n  - What's the general population of the surrounding area?\n      - What is the population density per mile?\n  - Is the surrounding area growing? \n  - Out of the occupants in each postal region:\n      - What is the employment rate?\n      - Do residents have disposable income?\n  - How much are the additional property tax rates in the area?\n\n", 
            "cell_type": "markdown", 
            "metadata": {}
        }, 
        {
            "source": "## Data Sources\n\nFor this problem the following data points will be utilized:\n  - Geographic information sourced from: https://www.latlong.net/convert-address-to-lat-long.html\n  - Demographic information sourced from: http://www.city-data.com/zipmaps/Tampa-Florida.html", 
            "cell_type": "markdown", 
            "metadata": {}
        }, 
        {
            "source": "#Import Libraries\nimport pandas as pd\nimport numpy as np\n\nfrom sklearn.cluster import KMeans\n\nimport matplotlib.cm as cm\nimport matplotlib.colors as colors\n\nimport requests \n\n#!conda install -c conda-forge folium=0.5.0 --yes \nimport folium \n\nprint(\"Libraries Imported\")", 
            "cell_type": "code", 
            "metadata": {}, 
            "outputs": [
                {
                    "output_type": "stream", 
                    "name": "stdout", 
                    "text": "Libraries Imported\n"
                }
            ], 
            "execution_count": 1
        }, 
        {
            "source": "import types\nfrom botocore.client import Config\nimport ibm_boto3\n\ndef __iter__(self): return 0\n\n#Source information was converted to CSV and then loaded to studio. \n\ndf1 = pd.read_csv(body)\ndf1.head()\n", 
            "cell_type": "code", 
            "metadata": {}, 
            "outputs": [
                {
                    "output_type": "execute_result", 
                    "data": {
                        "text/html": "<div>\n<style scoped>\n    .dataframe tbody tr th:only-of-type {\n        vertical-align: middle;\n    }\n\n    .dataframe tbody tr th {\n        vertical-align: top;\n    }\n\n    .dataframe thead th {\n        text-align: right;\n    }\n</style>\n<table border=\"1\" class=\"dataframe\">\n  <thead>\n    <tr style=\"text-align: right;\">\n      <th></th>\n      <th>Zip</th>\n      <th>population2016</th>\n      <th>population2010</th>\n      <th>costoflivingindex</th>\n      <th>landarea</th>\n      <th>waterarea</th>\n      <th>popdensity</th>\n      <th>permalepop</th>\n      <th>propertytax</th>\n      <th>medianhomevalue</th>\n      <th>medianincome</th>\n      <th>unemploymentrate</th>\n      <th>latitude</th>\n      <th>longitude</th>\n    </tr>\n  </thead>\n  <tbody>\n    <tr>\n      <th>0</th>\n      <td>33602</td>\n      <td>14353</td>\n      <td>11515</td>\n      <td>97.9</td>\n      <td>2.5</td>\n      <td>0.4</td>\n      <td>5630</td>\n      <td>0.541</td>\n      <td>0.010</td>\n      <td>282916</td>\n      <td>71594</td>\n      <td>0.040</td>\n      <td>27.95365</td>\n      <td>-82.45804</td>\n    </tr>\n    <tr>\n      <th>1</th>\n      <td>33603</td>\n      <td>19992</td>\n      <td>19100</td>\n      <td>95.1</td>\n      <td>4.1</td>\n      <td>0.1</td>\n      <td>4834</td>\n      <td>0.482</td>\n      <td>0.007</td>\n      <td>147840</td>\n      <td>39366</td>\n      <td>0.068</td>\n      <td>27.98444</td>\n      <td>-82.46339</td>\n    </tr>\n    <tr>\n      <th>2</th>\n      <td>33604</td>\n      <td>39011</td>\n      <td>35485</td>\n      <td>94.4</td>\n      <td>7.4</td>\n      <td>0.4</td>\n      <td>5241</td>\n      <td>0.488</td>\n      <td>0.007</td>\n      <td>121868</td>\n      <td>37987</td>\n      <td>0.103</td>\n      <td>28.01816</td>\n      <td>-82.45746</td>\n    </tr>\n    <tr>\n      <th>3</th>\n      <td>33605</td>\n      <td>18581</td>\n      <td>17073</td>\n      <td>94.1</td>\n      <td>7.8</td>\n      <td>1.4</td>\n      <td>2373</td>\n      <td>0.484</td>\n      <td>0.006</td>\n      <td>86351</td>\n      <td>26517</td>\n      <td>0.137</td>\n      <td>27.96241</td>\n      <td>-82.43287</td>\n    </tr>\n    <tr>\n      <th>4</th>\n      <td>33606</td>\n      <td>18792</td>\n      <td>17746</td>\n      <td>100.8</td>\n      <td>3.3</td>\n      <td>0.9</td>\n      <td>5725</td>\n      <td>0.474</td>\n      <td>0.008</td>\n      <td>480479</td>\n      <td>66282</td>\n      <td>0.041</td>\n      <td>27.93964</td>\n      <td>-82.47066</td>\n    </tr>\n  </tbody>\n</table>\n</div>", 
                        "text/plain": "     Zip  population2016  population2010  costoflivingindex  landarea  \\\n0  33602           14353           11515               97.9       2.5   \n1  33603           19992           19100               95.1       4.1   \n2  33604           39011           35485               94.4       7.4   \n3  33605           18581           17073               94.1       7.8   \n4  33606           18792           17746              100.8       3.3   \n\n   waterarea  popdensity  permalepop  propertytax  medianhomevalue  \\\n0        0.4        5630       0.541        0.010           282916   \n1        0.1        4834       0.482        0.007           147840   \n2        0.4        5241       0.488        0.007           121868   \n3        1.4        2373       0.484        0.006            86351   \n4        0.9        5725       0.474        0.008           480479   \n\n   medianincome  unemploymentrate  latitude  longitude  \n0         71594             0.040  27.95365  -82.45804  \n1         39366             0.068  27.98444  -82.46339  \n2         37987             0.103  28.01816  -82.45746  \n3         26517             0.137  27.96241  -82.43287  \n4         66282             0.041  27.93964  -82.47066  "
                    }, 
                    "execution_count": 5, 
                    "metadata": {}
                }
            ], 
            "execution_count": 5
        }, 
        {
            "source": "", 
            "cell_type": "code", 
            "metadata": {}, 
            "outputs": [], 
            "execution_count": null
        }, 
        {
            "source": "", 
            "cell_type": "code", 
            "metadata": {}, 
            "outputs": [], 
            "execution_count": null
        }, 
        {
            "source": "", 
            "cell_type": "code", 
            "metadata": {}, 
            "outputs": [], 
            "execution_count": null
        }, 
        {
            "source": "", 
            "cell_type": "code", 
            "metadata": {}, 
            "outputs": [], 
            "execution_count": null
        }, 
        {
            "source": "", 
            "cell_type": "code", 
            "metadata": {}, 
            "outputs": [], 
            "execution_count": null
        }, 
        {
            "source": "", 
            "cell_type": "code", 
            "metadata": {}, 
            "outputs": [], 
            "execution_count": null
        }, 
        {
            "source": "from sklearn.preprocessing import StandardScaler\n\nX = df1.values[:,1:]\nX = np.nan_to_num(X)\ncluster_dataset = StandardScaler().fit_transform(X)\ncluster_dataset", 
            "cell_type": "code", 
            "metadata": {}, 
            "outputs": [
                {
                    "output_type": "execute_result", 
                    "data": {
                        "text/plain": "array([[-9.34397722e-01, -1.07024663e+00,  1.39971886e+00,\n        -8.94665473e-01, -6.65896399e-01,  1.12142412e+00,\n         2.10017208e+00, -2.01351254e-01,  8.60331128e-01,\n         1.04118267e+00, -9.91733488e-01, -5.31158451e-01,\n         1.60935770e-01],\n       [-5.60818610e-01, -5.15539130e-01, -1.89151197e-01,\n        -6.74581205e-01, -1.16531870e+00,  6.15551952e-01,\n        -1.25758807e-01, -2.20326765e-01, -4.25616703e-01,\n        -6.77431987e-01,  1.95637866e-02, -6.89312512e-02,\n         7.77400502e-02],\n       [ 6.99174497e-01,  6.82731457e-01, -5.86368711e-01,\n        -2.20657404e-01, -6.65896399e-01,  8.74207697e-01,\n         1.00607046e-01, -2.20326765e-01, -6.72874818e-01,\n        -7.50969581e-01,  1.28368538e+00,  4.37281843e-01,\n         1.69955119e-01],\n       [-6.54296200e-01, -6.63778037e-01, -7.56604788e-01,\n        -1.65636337e-01,  9.98844598e-01, -9.48457360e-01,\n        -5.03035228e-02, -2.26651936e-01, -1.01100305e+00,\n        -1.36262746e+00,  2.51168921e+00, -3.99651134e-01,\n         5.52344417e-01],\n       [-6.40317623e-01, -6.14560087e-01,  3.04533427e+00,\n        -7.84623339e-01,  1.66474100e-01,  1.18179831e+00,\n        -4.27579944e-01, -2.14001595e-01,  2.74116645e+00,\n         7.57910947e-01, -9.55615728e-01, -7.41480083e-01,\n        -3.53128249e-02],\n       [-1.98369360e-01, -1.90759168e-01, -3.02641915e-01,\n        -5.73136113e-04, -3.32948199e-01, -6.64380903e-01,\n        -1.10667750e+00, -2.20326765e-01, -6.89782657e-01,\n        -6.73272500e-01,  4.52976904e-01, -3.62720998e-01,\n        -5.75696238e-01],\n       [-7.30350256e-01, -7.42321986e-01,  1.17273742e+00,\n        -6.33315405e-01, -3.32948199e-01,  7.66328550e-02,\n        -2.76669376e-01, -2.07676425e-01,  1.19211892e+00,\n         5.94411117e-01, -1.31679333e+00, -6.64767482e-01,\n        -6.18926911e-01],\n       [ 9.60063758e-01,  9.56026372e-01, -8.70095506e-01,\n         1.22364560e+00,  1.66474100e-01, -9.27485273e-01,\n        -4.27579944e-01, -2.14001595e-01, -9.45494691e-01,\n        -1.06469088e+00,  1.39203866e+00,  5.23677346e-02,\n         1.11434317e+00],\n       [ 2.75511007e-01,  2.43426519e-01, -7.56604788e-02,\n        -3.58210071e-01, -1.84823378e-16,  7.92861418e-01,\n         5.15611109e-01, -2.07676425e-01,  1.55542684e-01,\n         4.65360370e-01, -1.28067557e+00, -1.48668821e+00,\n        -5.61700696e-01],\n       [ 1.20452322e+00,  1.34940431e+00, -5.86368711e-01,\n         1.64490064e-01, -4.99422299e-01,  4.43962145e-01,\n         3.26972898e-01, -2.14001595e-01, -7.92276915e-01,\n        -1.10703232e+00,  1.64486298e+00,  9.29383421e-01,\n         3.59050437e-01],\n       [ 3.69187344e-01,  4.27134527e-01,  2.64811676e-01,\n        -2.20657404e-01,  1.66474100e-01,  4.85270802e-01,\n        -3.52124660e-01, -1.95026084e-01, -4.94304802e-01,\n        -1.16745154e+00,  3.44623625e-01,  1.33306284e+00,\n         5.10202286e-01],\n       [ 1.32377174e+00,  1.48455256e+00, -1.89151197e-01,\n         1.09468998e-01, -6.65896399e-01,  6.91814088e-01,\n         5.15611109e-01, -2.20326765e-01, -5.27054221e-01,\n        -8.27333494e-01, -1.97142772e-01,  2.97067421e-01,\n        -5.26400830e-01],\n       [ 1.22585546e+00,  1.26544858e+00, -6.43114070e-01,\n        -5.55942030e-02,  3.32948199e-01,  1.00448885e+00,\n         7.79704604e-01, -2.07676425e-01, -4.49921723e-01,\n        -1.23580311e-01, -2.33260532e-01,  2.44224299e-01,\n        -1.75287679e+00],\n       [-8.76893436e-01, -9.20691346e-01, -3.02641915e-01,\n        -7.15847005e-01, -1.84823378e-16,  8.87076933e-02,\n         3.64700541e-01, -2.20326765e-01, -3.11498306e-01,\n         2.12551557e-02,  2.00152586e-01, -1.83121936e+00,\n        -8.42855577e-01],\n       [ 1.17000740e+00,  1.11845292e+00, -1.89151197e-01,\n        -5.55942030e-02, -6.65896399e-01,  9.52376387e-01,\n        -3.14397018e-01, -2.07676425e-01, -4.96418282e-01,\n        -8.05842812e-01,  6.69683463e-01,  7.43081390e-01,\n         1.10221370e+00],\n       [-1.29867711e-01, -4.23739975e-02,  9.45755985e-02,\n        -4.18389363e-02,  4.99422299e-01, -5.13763183e-01,\n         2.89245256e-01, -2.01351254e-01,  7.52543650e-01,\n         8.96187223e-01, -1.35291109e+00,  1.13640236e+00,\n        -4.83014651e-01],\n       [ 6.03378186e-01,  6.15888655e-01, -9.26840865e-01,\n         2.42035381e+00,  3.66243019e+00, -1.55855445e+00,\n         1.30789159e+00, -2.01351254e-01, -9.49721651e-01,\n        -6.69113013e-01,  8.86390022e-01, -6.67920055e-01,\n         1.49471089e+00],\n       [-1.53733149e+00, -1.53514783e+00, -1.66453053e+00,\n        -1.11474974e+00, -1.33179280e+00,  1.30699532e+00,\n        -3.21942546e+00, -2.14001595e-01, -1.23846038e-01,\n        -1.34512295e-01, -3.05496052e-01,  9.83877891e-01,\n         8.81861670e-01],\n       [-1.72508166e+00, -1.79220740e+00,  1.85368173e+00,\n        -9.68600031e-02,  1.16531870e+00, -2.27224094e+00,\n         1.30789159e+00,  4.79553328e+00, -1.23846038e-01,\n         3.39669209e-01, -1.65539732e-02, -2.09108142e+00,\n        -2.37315142e-01],\n       [-1.36625127e-01, -1.83665348e-01,  6.05283830e-01,\n        -5.78294338e-01, -6.65896399e-01,  1.02800301e+00,\n         4.02428183e-01, -2.07676425e-01,  2.58584471e+00,\n         3.09282291e+00, -1.10008677e+00, -1.00824778e+00,\n        -6.00266189e-01],\n       [-5.23586573e-01, -4.33265440e-01, -4.16132633e-01,\n        -1.10615270e-01, -3.32948199e-01, -8.67111082e-01,\n         2.51517614e-02, -2.07676425e-01, -3.34746585e-01,\n         2.50240241e-01,  2.00152586e-01,  2.75750025e-01,\n        -1.21700306e+00],\n       [-7.31741488e-01, -7.61190086e-01, -1.32405838e-01,\n        -4.54496938e-01, -4.99422299e-01, -5.02959381e-01,\n        -1.14440514e+00, -1.88700914e-01, -2.69238227e-01,\n         3.79877582e-01, -7.75026929e-01,  5.42067353e-01,\n        -2.26293653e+00],\n       [-8.36481438e-01, -7.89711632e-01, -9.26840865e-01,\n        -1.65636337e-01, -4.99422299e-01, -1.16072031e+00,\n        -9.18039292e-01, -2.01351254e-01, -5.94685579e-01,\n         3.87463313e-02, -3.41613811e-01,  8.38859549e-01,\n         1.74025489e+00],\n       [ 2.38468607e+00,  2.11239223e+00,  3.21557035e-01,\n         3.42448828e+00,  1.16531870e+00, -1.24842176e+00,\n         3.26972898e-01, -1.76050573e-01,  9.24782747e-01,\n         1.48619444e+00, -7.38909169e-01,  2.04044010e+00,\n         1.55069305e+00]])"
                    }, 
                    "execution_count": 6, 
                    "metadata": {}
                }
            ], 
            "execution_count": 6
        }, 
        {
            "source": "num_clusters = 5\n\nk_means = KMeans(init=\"k-means++\", n_clusters=num_clusters, n_init=12)\nk_means.fit(cluster_dataset)\nlabels = k_means.labels_\n\nprint(labels)", 
            "cell_type": "code", 
            "metadata": {}, 
            "outputs": [
                {
                    "output_type": "stream", 
                    "name": "stdout", 
                    "text": "[2 3 1 3 2 3 2 1 3 1 1 1 1 3 1 3 0 3 4 2 3 3 3 0]\n"
                }
            ], 
            "execution_count": 8
        }, 
        {
            "source": "df1[\"Labels\"] = labels\ndf1.head(5)", 
            "cell_type": "code", 
            "metadata": {}, 
            "outputs": [
                {
                    "output_type": "execute_result", 
                    "data": {
                        "text/html": "<div>\n<style scoped>\n    .dataframe tbody tr th:only-of-type {\n        vertical-align: middle;\n    }\n\n    .dataframe tbody tr th {\n        vertical-align: top;\n    }\n\n    .dataframe thead th {\n        text-align: right;\n    }\n</style>\n<table border=\"1\" class=\"dataframe\">\n  <thead>\n    <tr style=\"text-align: right;\">\n      <th></th>\n      <th>Zip</th>\n      <th>population2016</th>\n      <th>population2010</th>\n      <th>costoflivingindex</th>\n      <th>landarea</th>\n      <th>waterarea</th>\n      <th>popdensity</th>\n      <th>permalepop</th>\n      <th>propertytax</th>\n      <th>medianhomevalue</th>\n      <th>medianincome</th>\n      <th>unemploymentrate</th>\n      <th>latitude</th>\n      <th>longitude</th>\n      <th>Labels</th>\n    </tr>\n  </thead>\n  <tbody>\n    <tr>\n      <th>0</th>\n      <td>33602</td>\n      <td>14353</td>\n      <td>11515</td>\n      <td>97.9</td>\n      <td>2.5</td>\n      <td>0.4</td>\n      <td>5630</td>\n      <td>0.541</td>\n      <td>0.010</td>\n      <td>282916</td>\n      <td>71594</td>\n      <td>0.040</td>\n      <td>27.95365</td>\n      <td>-82.45804</td>\n      <td>2</td>\n    </tr>\n    <tr>\n      <th>1</th>\n      <td>33603</td>\n      <td>19992</td>\n      <td>19100</td>\n      <td>95.1</td>\n      <td>4.1</td>\n      <td>0.1</td>\n      <td>4834</td>\n      <td>0.482</td>\n      <td>0.007</td>\n      <td>147840</td>\n      <td>39366</td>\n      <td>0.068</td>\n      <td>27.98444</td>\n      <td>-82.46339</td>\n      <td>3</td>\n    </tr>\n    <tr>\n      <th>2</th>\n      <td>33604</td>\n      <td>39011</td>\n      <td>35485</td>\n      <td>94.4</td>\n      <td>7.4</td>\n      <td>0.4</td>\n      <td>5241</td>\n      <td>0.488</td>\n      <td>0.007</td>\n      <td>121868</td>\n      <td>37987</td>\n      <td>0.103</td>\n      <td>28.01816</td>\n      <td>-82.45746</td>\n      <td>1</td>\n    </tr>\n    <tr>\n      <th>3</th>\n      <td>33605</td>\n      <td>18581</td>\n      <td>17073</td>\n      <td>94.1</td>\n      <td>7.8</td>\n      <td>1.4</td>\n      <td>2373</td>\n      <td>0.484</td>\n      <td>0.006</td>\n      <td>86351</td>\n      <td>26517</td>\n      <td>0.137</td>\n      <td>27.96241</td>\n      <td>-82.43287</td>\n      <td>3</td>\n    </tr>\n    <tr>\n      <th>4</th>\n      <td>33606</td>\n      <td>18792</td>\n      <td>17746</td>\n      <td>100.8</td>\n      <td>3.3</td>\n      <td>0.9</td>\n      <td>5725</td>\n      <td>0.474</td>\n      <td>0.008</td>\n      <td>480479</td>\n      <td>66282</td>\n      <td>0.041</td>\n      <td>27.93964</td>\n      <td>-82.47066</td>\n      <td>2</td>\n    </tr>\n  </tbody>\n</table>\n</div>", 
                        "text/plain": "     Zip  population2016  population2010  costoflivingindex  landarea  \\\n0  33602           14353           11515               97.9       2.5   \n1  33603           19992           19100               95.1       4.1   \n2  33604           39011           35485               94.4       7.4   \n3  33605           18581           17073               94.1       7.8   \n4  33606           18792           17746              100.8       3.3   \n\n   waterarea  popdensity  permalepop  propertytax  medianhomevalue  \\\n0        0.4        5630       0.541        0.010           282916   \n1        0.1        4834       0.482        0.007           147840   \n2        0.4        5241       0.488        0.007           121868   \n3        1.4        2373       0.484        0.006            86351   \n4        0.9        5725       0.474        0.008           480479   \n\n   medianincome  unemploymentrate  latitude  longitude  Labels  \n0         71594             0.040  27.95365  -82.45804       2  \n1         39366             0.068  27.98444  -82.46339       3  \n2         37987             0.103  28.01816  -82.45746       1  \n3         26517             0.137  27.96241  -82.43287       3  \n4         66282             0.041  27.93964  -82.47066       2  "
                    }, 
                    "execution_count": 9, 
                    "metadata": {}
                }
            ], 
            "execution_count": 9
        }, 
        {
            "source": "df1.groupby('Labels').mean()", 
            "cell_type": "code", 
            "metadata": {}, 
            "outputs": [
                {
                    "output_type": "execute_result", 
                    "data": {
                        "text/html": "<div>\n<style scoped>\n    .dataframe tbody tr th:only-of-type {\n        vertical-align: middle;\n    }\n\n    .dataframe tbody tr th {\n        vertical-align: top;\n    }\n\n    .dataframe thead th {\n        text-align: right;\n    }\n</style>\n<table border=\"1\" class=\"dataframe\">\n  <thead>\n    <tr style=\"text-align: right;\">\n      <th></th>\n      <th>Zip</th>\n      <th>population2016</th>\n      <th>population2010</th>\n      <th>costoflivingindex</th>\n      <th>landarea</th>\n      <th>waterarea</th>\n      <th>popdensity</th>\n      <th>permalepop</th>\n      <th>propertytax</th>\n      <th>medianhomevalue</th>\n      <th>medianincome</th>\n      <th>unemploymentrate</th>\n      <th>latitude</th>\n      <th>longitude</th>\n    </tr>\n    <tr>\n      <th>Labels</th>\n      <th></th>\n      <th></th>\n      <th></th>\n      <th></th>\n      <th></th>\n      <th></th>\n      <th></th>\n      <th></th>\n      <th></th>\n      <th></th>\n      <th></th>\n      <th></th>\n      <th></th>\n      <th></th>\n    </tr>\n  </thead>\n  <tbody>\n    <tr>\n      <th>0</th>\n      <td>33633.000000</td>\n      <td>51009.000000</td>\n      <td>44802.500000</td>\n      <td>94.900000</td>\n      <td>30.250000</td>\n      <td>2.250000</td>\n      <td>1657.000000</td>\n      <td>0.507000</td>\n      <td>0.012000</td>\n      <td>191237.000000</td>\n      <td>59730.500000</td>\n      <td>0.069500</td>\n      <td>28.034745</td>\n      <td>-82.370470</td>\n    </tr>\n    <tr>\n      <th>1</th>\n      <td>33612.142857</td>\n      <td>43449.571429</td>\n      <td>40377.571429</td>\n      <td>94.728571</td>\n      <td>9.985714</td>\n      <td>0.642857</td>\n      <td>4657.714286</td>\n      <td>0.487714</td>\n      <td>0.008429</td>\n      <td>126846.571429</td>\n      <td>36406.142857</td>\n      <td>0.086857</td>\n      <td>28.027443</td>\n      <td>-82.459419</td>\n    </tr>\n    <tr>\n      <th>2</th>\n      <td>33611.500000</td>\n      <td>19243.250000</td>\n      <td>17224.500000</td>\n      <td>98.175000</td>\n      <td>3.750000</td>\n      <td>0.575000</td>\n      <td>5206.000000</td>\n      <td>0.497250</td>\n      <td>0.009000</td>\n      <td>386331.500000</td>\n      <td>77789.750000</td>\n      <td>0.037250</td>\n      <td>27.939978</td>\n      <td>-82.485970</td>\n    </tr>\n    <tr>\n      <th>3</th>\n      <td>33618.600000</td>\n      <td>19741.900000</td>\n      <td>18479.700000</td>\n      <td>94.610000</td>\n      <td>6.240000</td>\n      <td>0.640000</td>\n      <td>3573.800000</td>\n      <td>0.471100</td>\n      <td>0.008500</td>\n      <td>162585.900000</td>\n      <td>50576.400000</td>\n      <td>0.065600</td>\n      <td>27.986552</td>\n      <td>-82.485694</td>\n    </tr>\n    <tr>\n      <th>4</th>\n      <td>33621.000000</td>\n      <td>2418.000000</td>\n      <td>1643.000000</td>\n      <td>98.700000</td>\n      <td>8.300000</td>\n      <td>1.500000</td>\n      <td>290.000000</td>\n      <td>0.520000</td>\n      <td>0.800000</td>\n      <td>179538.000000</td>\n      <td>58439.000000</td>\n      <td>0.067000</td>\n      <td>27.849740</td>\n      <td>-82.483650</td>\n    </tr>\n  </tbody>\n</table>\n</div>", 
                        "text/plain": "                 Zip  population2016  population2010  costoflivingindex  \\\nLabels                                                                    \n0       33633.000000    51009.000000    44802.500000          94.900000   \n1       33612.142857    43449.571429    40377.571429          94.728571   \n2       33611.500000    19243.250000    17224.500000          98.175000   \n3       33618.600000    19741.900000    18479.700000          94.610000   \n4       33621.000000     2418.000000     1643.000000          98.700000   \n\n         landarea  waterarea   popdensity  permalepop  propertytax  \\\nLabels                                                               \n0       30.250000   2.250000  1657.000000    0.507000     0.012000   \n1        9.985714   0.642857  4657.714286    0.487714     0.008429   \n2        3.750000   0.575000  5206.000000    0.497250     0.009000   \n3        6.240000   0.640000  3573.800000    0.471100     0.008500   \n4        8.300000   1.500000   290.000000    0.520000     0.800000   \n\n        medianhomevalue  medianincome  unemploymentrate   latitude  longitude  \nLabels                                                                         \n0         191237.000000  59730.500000          0.069500  28.034745 -82.370470  \n1         126846.571429  36406.142857          0.086857  28.027443 -82.459419  \n2         386331.500000  77789.750000          0.037250  27.939978 -82.485970  \n3         162585.900000  50576.400000          0.065600  27.986552 -82.485694  \n4         179538.000000  58439.000000          0.067000  27.849740 -82.483650  "
                    }, 
                    "execution_count": 11, 
                    "metadata": {}
                }
            ], 
            "execution_count": 11
        }, 
        {
            "source": "## Findings - Cluster 2 Zip Codes Found Favorable\n    - Based on findings of clusters, best cluster areas are those within cluster 2. \n        - This group had the best overall results when reviewing major variables concerning future profit including:\n            - Population Density\n            - Population Growth 2010 to 2016\n            - Lower Unemployment\n            - Favorable Tax Rates\n            - Strong Cost of Living Index\n            - Population With Disposable Income", 
            "cell_type": "markdown", 
            "metadata": {}
        }, 
        {
            "source": "", 
            "cell_type": "code", 
            "metadata": {}, 
            "outputs": [], 
            "execution_count": null
        }
    ], 
    "metadata": {
        "kernelspec": {
            "display_name": "Python 3.6", 
            "name": "python3", 
            "language": "python"
        }, 
        "language_info": {
            "mimetype": "text/x-python", 
            "nbconvert_exporter": "python", 
            "version": "3.6.8", 
            "name": "python", 
            "pygments_lexer": "ipython3", 
            "file_extension": ".py", 
            "codemirror_mode": {
                "version": 3, 
                "name": "ipython"
            }
        }
    }, 
    "nbformat": 4
}