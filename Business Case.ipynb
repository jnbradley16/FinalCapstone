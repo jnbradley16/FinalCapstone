{
    "nbformat_minor": 1, 
    "cells": [
        {
            "source": "## Introduction/Business Problem\nA restaurant chain is looking for possible areas in the Tampa FL area that will put them in the best position to succeed. In order to determine the level of success each possible area may have in the area they need to know:\n  - What's the general population of the surrounding area?\n  - What competition is nearby that could drive traffic away from our future restaurant? \n      - Sit-Down restaurants vs Quick Service restaurants in the area\n  - What businesses are nearby that could be beneficial to our future restaurant?\n      - Universities, hospitals, corporate offices, theaters, etc..\n  - How far away is it to any restaurant we currently have in the Tampa area? \n", 
            "cell_type": "markdown", 
            "metadata": {
                "collapsed": true
            }
        }, 
        {
            "source": "## Data Sources\n\nFor this problem the following data points will be utilized:\n  - Geographic information: Neighborhood Lat/Long from FourSquare\n  - Demographic Information: Population density of those areas from government database\n  - Competitive Information: Number of restaurant competitors overall as well as number of direct competitors from FourSquare\n  - Nearby Business Information: Number of each segment (Hospital/School/Business/Other) from FourSquare\n  - Distance to brand's own restaurant from FourSquare", 
            "cell_type": "markdown", 
            "metadata": {}
        }
    ], 
    "metadata": {
        "kernelspec": {
            "display_name": "Python 3.6", 
            "name": "python3", 
            "language": "python"
        }, 
        "language_info": {
            "mimetype": "text/x-python", 
            "nbconvert_exporter": "python", 
            "version": "3.6.8", 
            "name": "python", 
            "pygments_lexer": "ipython3", 
            "file_extension": ".py", 
            "codemirror_mode": {
                "version": 3, 
                "name": "ipython"
            }
        }
    }, 
    "nbformat": 4
}